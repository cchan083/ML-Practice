{
 "cells": [
  {
   "cell_type": "code",
   "execution_count": 65,
   "metadata": {},
   "outputs": [],
   "source": [
    "import pandas as pd\n",
    "import matplotlib.pyplot as plt\n",
    "import seaborn as sns \n"
   ]
  },
  {
   "cell_type": "code",
   "execution_count": 66,
   "metadata": {},
   "outputs": [
    {
     "data": {
      "application/vnd.microsoft.datawrangler.viewer.v0+json": {
       "columns": [
        {
         "name": "index",
         "rawType": "int64",
         "type": "integer"
        },
        {
         "name": "longitude",
         "rawType": "float64",
         "type": "float"
        },
        {
         "name": "latitude",
         "rawType": "float64",
         "type": "float"
        },
        {
         "name": "housing_median_age",
         "rawType": "float64",
         "type": "float"
        },
        {
         "name": "total_rooms",
         "rawType": "float64",
         "type": "float"
        },
        {
         "name": "total_bedrooms",
         "rawType": "float64",
         "type": "float"
        },
        {
         "name": "population",
         "rawType": "float64",
         "type": "float"
        },
        {
         "name": "households",
         "rawType": "float64",
         "type": "float"
        },
        {
         "name": "median_income",
         "rawType": "float64",
         "type": "float"
        },
        {
         "name": "median_house_value",
         "rawType": "float64",
         "type": "float"
        },
        {
         "name": "ocean_proximity",
         "rawType": "object",
         "type": "string"
        }
       ],
       "conversionMethod": "pd.DataFrame",
       "ref": "e3e4941a-1d1e-460e-8bdb-2cc5ad1dfed6",
       "rows": [
        [
         "0",
         "-122.23",
         "37.88",
         "41.0",
         "880.0",
         "129.0",
         "322.0",
         "126.0",
         "8.3252",
         "452600.0",
         "NEAR BAY"
        ],
        [
         "1",
         "-122.22",
         "37.86",
         "21.0",
         "7099.0",
         "1106.0",
         "2401.0",
         "1138.0",
         "8.3014",
         "358500.0",
         "NEAR BAY"
        ],
        [
         "2",
         "-122.24",
         "37.85",
         "52.0",
         "1467.0",
         "190.0",
         "496.0",
         "177.0",
         "7.2574",
         "352100.0",
         "NEAR BAY"
        ],
        [
         "3",
         "-122.25",
         "37.85",
         "52.0",
         "1274.0",
         "235.0",
         "558.0",
         "219.0",
         "5.6431",
         "341300.0",
         "NEAR BAY"
        ],
        [
         "4",
         "-122.25",
         "37.85",
         "52.0",
         "1627.0",
         "280.0",
         "565.0",
         "259.0",
         "3.8462",
         "342200.0",
         "NEAR BAY"
        ]
       ],
       "shape": {
        "columns": 10,
        "rows": 5
       }
      },
      "text/html": [
       "<div>\n",
       "<style scoped>\n",
       "    .dataframe tbody tr th:only-of-type {\n",
       "        vertical-align: middle;\n",
       "    }\n",
       "\n",
       "    .dataframe tbody tr th {\n",
       "        vertical-align: top;\n",
       "    }\n",
       "\n",
       "    .dataframe thead th {\n",
       "        text-align: right;\n",
       "    }\n",
       "</style>\n",
       "<table border=\"1\" class=\"dataframe\">\n",
       "  <thead>\n",
       "    <tr style=\"text-align: right;\">\n",
       "      <th></th>\n",
       "      <th>longitude</th>\n",
       "      <th>latitude</th>\n",
       "      <th>housing_median_age</th>\n",
       "      <th>total_rooms</th>\n",
       "      <th>total_bedrooms</th>\n",
       "      <th>population</th>\n",
       "      <th>households</th>\n",
       "      <th>median_income</th>\n",
       "      <th>median_house_value</th>\n",
       "      <th>ocean_proximity</th>\n",
       "    </tr>\n",
       "  </thead>\n",
       "  <tbody>\n",
       "    <tr>\n",
       "      <th>0</th>\n",
       "      <td>-122.23</td>\n",
       "      <td>37.88</td>\n",
       "      <td>41.0</td>\n",
       "      <td>880.0</td>\n",
       "      <td>129.0</td>\n",
       "      <td>322.0</td>\n",
       "      <td>126.0</td>\n",
       "      <td>8.3252</td>\n",
       "      <td>452600.0</td>\n",
       "      <td>NEAR BAY</td>\n",
       "    </tr>\n",
       "    <tr>\n",
       "      <th>1</th>\n",
       "      <td>-122.22</td>\n",
       "      <td>37.86</td>\n",
       "      <td>21.0</td>\n",
       "      <td>7099.0</td>\n",
       "      <td>1106.0</td>\n",
       "      <td>2401.0</td>\n",
       "      <td>1138.0</td>\n",
       "      <td>8.3014</td>\n",
       "      <td>358500.0</td>\n",
       "      <td>NEAR BAY</td>\n",
       "    </tr>\n",
       "    <tr>\n",
       "      <th>2</th>\n",
       "      <td>-122.24</td>\n",
       "      <td>37.85</td>\n",
       "      <td>52.0</td>\n",
       "      <td>1467.0</td>\n",
       "      <td>190.0</td>\n",
       "      <td>496.0</td>\n",
       "      <td>177.0</td>\n",
       "      <td>7.2574</td>\n",
       "      <td>352100.0</td>\n",
       "      <td>NEAR BAY</td>\n",
       "    </tr>\n",
       "    <tr>\n",
       "      <th>3</th>\n",
       "      <td>-122.25</td>\n",
       "      <td>37.85</td>\n",
       "      <td>52.0</td>\n",
       "      <td>1274.0</td>\n",
       "      <td>235.0</td>\n",
       "      <td>558.0</td>\n",
       "      <td>219.0</td>\n",
       "      <td>5.6431</td>\n",
       "      <td>341300.0</td>\n",
       "      <td>NEAR BAY</td>\n",
       "    </tr>\n",
       "    <tr>\n",
       "      <th>4</th>\n",
       "      <td>-122.25</td>\n",
       "      <td>37.85</td>\n",
       "      <td>52.0</td>\n",
       "      <td>1627.0</td>\n",
       "      <td>280.0</td>\n",
       "      <td>565.0</td>\n",
       "      <td>259.0</td>\n",
       "      <td>3.8462</td>\n",
       "      <td>342200.0</td>\n",
       "      <td>NEAR BAY</td>\n",
       "    </tr>\n",
       "  </tbody>\n",
       "</table>\n",
       "</div>"
      ],
      "text/plain": [
       "   longitude  latitude  housing_median_age  total_rooms  total_bedrooms  \\\n",
       "0    -122.23     37.88                41.0        880.0           129.0   \n",
       "1    -122.22     37.86                21.0       7099.0          1106.0   \n",
       "2    -122.24     37.85                52.0       1467.0           190.0   \n",
       "3    -122.25     37.85                52.0       1274.0           235.0   \n",
       "4    -122.25     37.85                52.0       1627.0           280.0   \n",
       "\n",
       "   population  households  median_income  median_house_value ocean_proximity  \n",
       "0       322.0       126.0         8.3252            452600.0        NEAR BAY  \n",
       "1      2401.0      1138.0         8.3014            358500.0        NEAR BAY  \n",
       "2       496.0       177.0         7.2574            352100.0        NEAR BAY  \n",
       "3       558.0       219.0         5.6431            341300.0        NEAR BAY  \n",
       "4       565.0       259.0         3.8462            342200.0        NEAR BAY  "
      ]
     },
     "execution_count": 66,
     "metadata": {},
     "output_type": "execute_result"
    }
   ],
   "source": [
    "df = pd.read_csv('housing.csv')\n",
    "df.head()"
   ]
  },
  {
   "cell_type": "code",
   "execution_count": 67,
   "metadata": {},
   "outputs": [
    {
     "name": "stdout",
     "output_type": "stream",
     "text": [
      "<class 'pandas.core.frame.DataFrame'>\n",
      "RangeIndex: 20640 entries, 0 to 20639\n",
      "Data columns (total 10 columns):\n",
      " #   Column              Non-Null Count  Dtype  \n",
      "---  ------              --------------  -----  \n",
      " 0   longitude           20640 non-null  float64\n",
      " 1   latitude            20640 non-null  float64\n",
      " 2   housing_median_age  20640 non-null  float64\n",
      " 3   total_rooms         20640 non-null  float64\n",
      " 4   total_bedrooms      20433 non-null  float64\n",
      " 5   population          20640 non-null  float64\n",
      " 6   households          20640 non-null  float64\n",
      " 7   median_income       20640 non-null  float64\n",
      " 8   median_house_value  20640 non-null  float64\n",
      " 9   ocean_proximity     20640 non-null  object \n",
      "dtypes: float64(9), object(1)\n",
      "memory usage: 1.6+ MB\n"
     ]
    }
   ],
   "source": [
    "df.info()"
   ]
  },
  {
   "cell_type": "code",
   "execution_count": 68,
   "metadata": {},
   "outputs": [
    {
     "data": {
      "text/plain": [
       "(20640, 10)"
      ]
     },
     "execution_count": 68,
     "metadata": {},
     "output_type": "execute_result"
    }
   ],
   "source": [
    "df.shape"
   ]
  },
  {
   "cell_type": "code",
   "execution_count": 69,
   "metadata": {},
   "outputs": [
    {
     "data": {
      "text/plain": [
       "array(['NEAR BAY', '<1H OCEAN', 'INLAND', 'NEAR OCEAN', 'ISLAND'],\n",
       "      dtype=object)"
      ]
     },
     "execution_count": 69,
     "metadata": {},
     "output_type": "execute_result"
    }
   ],
   "source": [
    "df['ocean_proximity'].unique()"
   ]
  },
  {
   "cell_type": "code",
   "execution_count": 70,
   "metadata": {},
   "outputs": [
    {
     "data": {
      "application/vnd.microsoft.datawrangler.viewer.v0+json": {
       "columns": [
        {
         "name": "index",
         "rawType": "int64",
         "type": "integer"
        },
        {
         "name": "housing_median_age",
         "rawType": "float64",
         "type": "float"
        },
        {
         "name": "total_rooms",
         "rawType": "float64",
         "type": "float"
        },
        {
         "name": "total_bedrooms",
         "rawType": "float64",
         "type": "float"
        },
        {
         "name": "population",
         "rawType": "float64",
         "type": "float"
        },
        {
         "name": "households",
         "rawType": "float64",
         "type": "float"
        },
        {
         "name": "median_income",
         "rawType": "float64",
         "type": "float"
        },
        {
         "name": "median_house_value",
         "rawType": "float64",
         "type": "float"
        },
        {
         "name": "ocean_proximity",
         "rawType": "object",
         "type": "string"
        }
       ],
       "conversionMethod": "pd.DataFrame",
       "ref": "506dfc31-1ea8-419c-a538-de204b7650ca",
       "rows": [
        [
         "0",
         "41.0",
         "880.0",
         "129.0",
         "322.0",
         "126.0",
         "8.3252",
         "452600.0",
         "NEAR BAY"
        ],
        [
         "1",
         "21.0",
         "7099.0",
         "1106.0",
         "2401.0",
         "1138.0",
         "8.3014",
         "358500.0",
         "NEAR BAY"
        ],
        [
         "2",
         "52.0",
         "1467.0",
         "190.0",
         "496.0",
         "177.0",
         "7.2574",
         "352100.0",
         "NEAR BAY"
        ],
        [
         "3",
         "52.0",
         "1274.0",
         "235.0",
         "558.0",
         "219.0",
         "5.6431",
         "341300.0",
         "NEAR BAY"
        ],
        [
         "4",
         "52.0",
         "1627.0",
         "280.0",
         "565.0",
         "259.0",
         "3.8462",
         "342200.0",
         "NEAR BAY"
        ],
        [
         "5",
         "52.0",
         "919.0",
         "213.0",
         "413.0",
         "193.0",
         "4.0368",
         "269700.0",
         "NEAR BAY"
        ],
        [
         "6",
         "52.0",
         "2535.0",
         "489.0",
         "1094.0",
         "514.0",
         "3.6591",
         "299200.0",
         "NEAR BAY"
        ],
        [
         "7",
         "52.0",
         "3104.0",
         "687.0",
         "1157.0",
         "647.0",
         "3.12",
         "241400.0",
         "NEAR BAY"
        ],
        [
         "8",
         "42.0",
         "2555.0",
         "665.0",
         "1206.0",
         "595.0",
         "2.0804",
         "226700.0",
         "NEAR BAY"
        ],
        [
         "9",
         "52.0",
         "3549.0",
         "707.0",
         "1551.0",
         "714.0",
         "3.6912",
         "261100.0",
         "NEAR BAY"
        ],
        [
         "10",
         "52.0",
         "2202.0",
         "434.0",
         "910.0",
         "402.0",
         "3.2031",
         "281500.0",
         "NEAR BAY"
        ],
        [
         "11",
         "52.0",
         "3503.0",
         "752.0",
         "1504.0",
         "734.0",
         "3.2705",
         "241800.0",
         "NEAR BAY"
        ],
        [
         "12",
         "52.0",
         "2491.0",
         "474.0",
         "1098.0",
         "468.0",
         "3.075",
         "213500.0",
         "NEAR BAY"
        ],
        [
         "13",
         "52.0",
         "696.0",
         "191.0",
         "345.0",
         "174.0",
         "2.6736",
         "191300.0",
         "NEAR BAY"
        ],
        [
         "14",
         "52.0",
         "2643.0",
         "626.0",
         "1212.0",
         "620.0",
         "1.9167",
         "159200.0",
         "NEAR BAY"
        ],
        [
         "15",
         "50.0",
         "1120.0",
         "283.0",
         "697.0",
         "264.0",
         "2.125",
         "140000.0",
         "NEAR BAY"
        ],
        [
         "16",
         "52.0",
         "1966.0",
         "347.0",
         "793.0",
         "331.0",
         "2.775",
         "152500.0",
         "NEAR BAY"
        ],
        [
         "17",
         "52.0",
         "1228.0",
         "293.0",
         "648.0",
         "303.0",
         "2.1202",
         "155500.0",
         "NEAR BAY"
        ],
        [
         "18",
         "50.0",
         "2239.0",
         "455.0",
         "990.0",
         "419.0",
         "1.9911",
         "158700.0",
         "NEAR BAY"
        ],
        [
         "19",
         "52.0",
         "1503.0",
         "298.0",
         "690.0",
         "275.0",
         "2.6033",
         "162900.0",
         "NEAR BAY"
        ],
        [
         "20",
         "40.0",
         "751.0",
         "184.0",
         "409.0",
         "166.0",
         "1.3578",
         "147500.0",
         "NEAR BAY"
        ],
        [
         "21",
         "42.0",
         "1639.0",
         "367.0",
         "929.0",
         "366.0",
         "1.7135",
         "159800.0",
         "NEAR BAY"
        ],
        [
         "22",
         "52.0",
         "2436.0",
         "541.0",
         "1015.0",
         "478.0",
         "1.725",
         "113900.0",
         "NEAR BAY"
        ],
        [
         "23",
         "52.0",
         "1688.0",
         "337.0",
         "853.0",
         "325.0",
         "2.1806",
         "99700.0",
         "NEAR BAY"
        ],
        [
         "24",
         "52.0",
         "2224.0",
         "437.0",
         "1006.0",
         "422.0",
         "2.6",
         "132600.0",
         "NEAR BAY"
        ],
        [
         "25",
         "41.0",
         "535.0",
         "123.0",
         "317.0",
         "119.0",
         "2.4038",
         "107500.0",
         "NEAR BAY"
        ],
        [
         "26",
         "49.0",
         "1130.0",
         "244.0",
         "607.0",
         "239.0",
         "2.4597",
         "93800.0",
         "NEAR BAY"
        ],
        [
         "27",
         "52.0",
         "1898.0",
         "421.0",
         "1102.0",
         "397.0",
         "1.808",
         "105500.0",
         "NEAR BAY"
        ],
        [
         "28",
         "50.0",
         "2082.0",
         "492.0",
         "1131.0",
         "473.0",
         "1.6424",
         "108900.0",
         "NEAR BAY"
        ],
        [
         "29",
         "52.0",
         "729.0",
         "160.0",
         "395.0",
         "155.0",
         "1.6875",
         "132000.0",
         "NEAR BAY"
        ],
        [
         "30",
         "49.0",
         "1916.0",
         "447.0",
         "863.0",
         "378.0",
         "1.9274",
         "122300.0",
         "NEAR BAY"
        ],
        [
         "31",
         "52.0",
         "2153.0",
         "481.0",
         "1168.0",
         "441.0",
         "1.9615",
         "115200.0",
         "NEAR BAY"
        ],
        [
         "32",
         "48.0",
         "1922.0",
         "409.0",
         "1026.0",
         "335.0",
         "1.7969",
         "110400.0",
         "NEAR BAY"
        ],
        [
         "33",
         "49.0",
         "1655.0",
         "366.0",
         "754.0",
         "329.0",
         "1.375",
         "104900.0",
         "NEAR BAY"
        ],
        [
         "34",
         "51.0",
         "2665.0",
         "574.0",
         "1258.0",
         "536.0",
         "2.7303",
         "109700.0",
         "NEAR BAY"
        ],
        [
         "35",
         "49.0",
         "1215.0",
         "282.0",
         "570.0",
         "264.0",
         "1.4861",
         "97200.0",
         "NEAR BAY"
        ],
        [
         "36",
         "48.0",
         "1798.0",
         "432.0",
         "987.0",
         "374.0",
         "1.0972",
         "104500.0",
         "NEAR BAY"
        ],
        [
         "37",
         "52.0",
         "1511.0",
         "390.0",
         "901.0",
         "403.0",
         "1.4103",
         "103900.0",
         "NEAR BAY"
        ],
        [
         "38",
         "52.0",
         "1470.0",
         "330.0",
         "689.0",
         "309.0",
         "3.48",
         "191400.0",
         "NEAR BAY"
        ],
        [
         "39",
         "52.0",
         "2432.0",
         "715.0",
         "1377.0",
         "696.0",
         "2.5898",
         "176000.0",
         "NEAR BAY"
        ],
        [
         "40",
         "52.0",
         "1665.0",
         "419.0",
         "946.0",
         "395.0",
         "2.0978",
         "155400.0",
         "NEAR BAY"
        ],
        [
         "41",
         "51.0",
         "936.0",
         "311.0",
         "517.0",
         "249.0",
         "1.2852",
         "150000.0",
         "NEAR BAY"
        ],
        [
         "42",
         "49.0",
         "713.0",
         "202.0",
         "462.0",
         "189.0",
         "1.025",
         "118800.0",
         "NEAR BAY"
        ],
        [
         "43",
         "52.0",
         "950.0",
         "202.0",
         "467.0",
         "198.0",
         "3.9643",
         "188800.0",
         "NEAR BAY"
        ],
        [
         "44",
         "52.0",
         "1443.0",
         "311.0",
         "660.0",
         "292.0",
         "3.0125",
         "184400.0",
         "NEAR BAY"
        ],
        [
         "45",
         "52.0",
         "1656.0",
         "420.0",
         "718.0",
         "382.0",
         "2.6768",
         "182300.0",
         "NEAR BAY"
        ],
        [
         "46",
         "50.0",
         "1125.0",
         "322.0",
         "616.0",
         "304.0",
         "2.026",
         "142500.0",
         "NEAR BAY"
        ],
        [
         "47",
         "43.0",
         "1007.0",
         "312.0",
         "558.0",
         "253.0",
         "1.7348",
         "137500.0",
         "NEAR BAY"
        ],
        [
         "48",
         "40.0",
         "624.0",
         "195.0",
         "423.0",
         "160.0",
         "0.9506",
         "187500.0",
         "NEAR BAY"
        ],
        [
         "49",
         "40.0",
         "946.0",
         "375.0",
         "700.0",
         "352.0",
         "1.775",
         "112500.0",
         "NEAR BAY"
        ]
       ],
       "shape": {
        "columns": 8,
        "rows": 20433
       }
      },
      "text/html": [
       "<div>\n",
       "<style scoped>\n",
       "    .dataframe tbody tr th:only-of-type {\n",
       "        vertical-align: middle;\n",
       "    }\n",
       "\n",
       "    .dataframe tbody tr th {\n",
       "        vertical-align: top;\n",
       "    }\n",
       "\n",
       "    .dataframe thead th {\n",
       "        text-align: right;\n",
       "    }\n",
       "</style>\n",
       "<table border=\"1\" class=\"dataframe\">\n",
       "  <thead>\n",
       "    <tr style=\"text-align: right;\">\n",
       "      <th></th>\n",
       "      <th>housing_median_age</th>\n",
       "      <th>total_rooms</th>\n",
       "      <th>total_bedrooms</th>\n",
       "      <th>population</th>\n",
       "      <th>households</th>\n",
       "      <th>median_income</th>\n",
       "      <th>median_house_value</th>\n",
       "      <th>ocean_proximity</th>\n",
       "    </tr>\n",
       "  </thead>\n",
       "  <tbody>\n",
       "    <tr>\n",
       "      <th>0</th>\n",
       "      <td>41.0</td>\n",
       "      <td>880.0</td>\n",
       "      <td>129.0</td>\n",
       "      <td>322.0</td>\n",
       "      <td>126.0</td>\n",
       "      <td>8.3252</td>\n",
       "      <td>452600.0</td>\n",
       "      <td>NEAR BAY</td>\n",
       "    </tr>\n",
       "    <tr>\n",
       "      <th>1</th>\n",
       "      <td>21.0</td>\n",
       "      <td>7099.0</td>\n",
       "      <td>1106.0</td>\n",
       "      <td>2401.0</td>\n",
       "      <td>1138.0</td>\n",
       "      <td>8.3014</td>\n",
       "      <td>358500.0</td>\n",
       "      <td>NEAR BAY</td>\n",
       "    </tr>\n",
       "    <tr>\n",
       "      <th>2</th>\n",
       "      <td>52.0</td>\n",
       "      <td>1467.0</td>\n",
       "      <td>190.0</td>\n",
       "      <td>496.0</td>\n",
       "      <td>177.0</td>\n",
       "      <td>7.2574</td>\n",
       "      <td>352100.0</td>\n",
       "      <td>NEAR BAY</td>\n",
       "    </tr>\n",
       "    <tr>\n",
       "      <th>3</th>\n",
       "      <td>52.0</td>\n",
       "      <td>1274.0</td>\n",
       "      <td>235.0</td>\n",
       "      <td>558.0</td>\n",
       "      <td>219.0</td>\n",
       "      <td>5.6431</td>\n",
       "      <td>341300.0</td>\n",
       "      <td>NEAR BAY</td>\n",
       "    </tr>\n",
       "    <tr>\n",
       "      <th>4</th>\n",
       "      <td>52.0</td>\n",
       "      <td>1627.0</td>\n",
       "      <td>280.0</td>\n",
       "      <td>565.0</td>\n",
       "      <td>259.0</td>\n",
       "      <td>3.8462</td>\n",
       "      <td>342200.0</td>\n",
       "      <td>NEAR BAY</td>\n",
       "    </tr>\n",
       "    <tr>\n",
       "      <th>...</th>\n",
       "      <td>...</td>\n",
       "      <td>...</td>\n",
       "      <td>...</td>\n",
       "      <td>...</td>\n",
       "      <td>...</td>\n",
       "      <td>...</td>\n",
       "      <td>...</td>\n",
       "      <td>...</td>\n",
       "    </tr>\n",
       "    <tr>\n",
       "      <th>20635</th>\n",
       "      <td>25.0</td>\n",
       "      <td>1665.0</td>\n",
       "      <td>374.0</td>\n",
       "      <td>845.0</td>\n",
       "      <td>330.0</td>\n",
       "      <td>1.5603</td>\n",
       "      <td>78100.0</td>\n",
       "      <td>INLAND</td>\n",
       "    </tr>\n",
       "    <tr>\n",
       "      <th>20636</th>\n",
       "      <td>18.0</td>\n",
       "      <td>697.0</td>\n",
       "      <td>150.0</td>\n",
       "      <td>356.0</td>\n",
       "      <td>114.0</td>\n",
       "      <td>2.5568</td>\n",
       "      <td>77100.0</td>\n",
       "      <td>INLAND</td>\n",
       "    </tr>\n",
       "    <tr>\n",
       "      <th>20637</th>\n",
       "      <td>17.0</td>\n",
       "      <td>2254.0</td>\n",
       "      <td>485.0</td>\n",
       "      <td>1007.0</td>\n",
       "      <td>433.0</td>\n",
       "      <td>1.7000</td>\n",
       "      <td>92300.0</td>\n",
       "      <td>INLAND</td>\n",
       "    </tr>\n",
       "    <tr>\n",
       "      <th>20638</th>\n",
       "      <td>18.0</td>\n",
       "      <td>1860.0</td>\n",
       "      <td>409.0</td>\n",
       "      <td>741.0</td>\n",
       "      <td>349.0</td>\n",
       "      <td>1.8672</td>\n",
       "      <td>84700.0</td>\n",
       "      <td>INLAND</td>\n",
       "    </tr>\n",
       "    <tr>\n",
       "      <th>20639</th>\n",
       "      <td>16.0</td>\n",
       "      <td>2785.0</td>\n",
       "      <td>616.0</td>\n",
       "      <td>1387.0</td>\n",
       "      <td>530.0</td>\n",
       "      <td>2.3886</td>\n",
       "      <td>89400.0</td>\n",
       "      <td>INLAND</td>\n",
       "    </tr>\n",
       "  </tbody>\n",
       "</table>\n",
       "<p>20433 rows × 8 columns</p>\n",
       "</div>"
      ],
      "text/plain": [
       "       housing_median_age  total_rooms  total_bedrooms  population  \\\n",
       "0                    41.0        880.0           129.0       322.0   \n",
       "1                    21.0       7099.0          1106.0      2401.0   \n",
       "2                    52.0       1467.0           190.0       496.0   \n",
       "3                    52.0       1274.0           235.0       558.0   \n",
       "4                    52.0       1627.0           280.0       565.0   \n",
       "...                   ...          ...             ...         ...   \n",
       "20635                25.0       1665.0           374.0       845.0   \n",
       "20636                18.0        697.0           150.0       356.0   \n",
       "20637                17.0       2254.0           485.0      1007.0   \n",
       "20638                18.0       1860.0           409.0       741.0   \n",
       "20639                16.0       2785.0           616.0      1387.0   \n",
       "\n",
       "       households  median_income  median_house_value ocean_proximity  \n",
       "0           126.0         8.3252            452600.0        NEAR BAY  \n",
       "1          1138.0         8.3014            358500.0        NEAR BAY  \n",
       "2           177.0         7.2574            352100.0        NEAR BAY  \n",
       "3           219.0         5.6431            341300.0        NEAR BAY  \n",
       "4           259.0         3.8462            342200.0        NEAR BAY  \n",
       "...           ...            ...                 ...             ...  \n",
       "20635       330.0         1.5603             78100.0          INLAND  \n",
       "20636       114.0         2.5568             77100.0          INLAND  \n",
       "20637       433.0         1.7000             92300.0          INLAND  \n",
       "20638       349.0         1.8672             84700.0          INLAND  \n",
       "20639       530.0         2.3886             89400.0          INLAND  \n",
       "\n",
       "[20433 rows x 8 columns]"
      ]
     },
     "execution_count": 70,
     "metadata": {},
     "output_type": "execute_result"
    }
   ],
   "source": [
    "df = df.drop(['longitude', 'latitude'], axis=1)\n",
    "df.dropna()"
   ]
  },
  {
   "cell_type": "code",
   "execution_count": 71,
   "metadata": {},
   "outputs": [
    {
     "data": {
      "application/vnd.microsoft.datawrangler.viewer.v0+json": {
       "columns": [
        {
         "name": "index",
         "rawType": "object",
         "type": "string"
        },
        {
         "name": "housing_median_age",
         "rawType": "float64",
         "type": "float"
        },
        {
         "name": "total_rooms",
         "rawType": "float64",
         "type": "float"
        },
        {
         "name": "total_bedrooms",
         "rawType": "float64",
         "type": "float"
        },
        {
         "name": "population",
         "rawType": "float64",
         "type": "float"
        },
        {
         "name": "households",
         "rawType": "float64",
         "type": "float"
        },
        {
         "name": "median_income",
         "rawType": "float64",
         "type": "float"
        },
        {
         "name": "median_house_value",
         "rawType": "float64",
         "type": "float"
        }
       ],
       "conversionMethod": "pd.DataFrame",
       "ref": "24dd4e76-8554-4104-987c-0a9316091836",
       "rows": [
        [
         "count",
         "20640.0",
         "20640.0",
         "20433.0",
         "20640.0",
         "20640.0",
         "20640.0",
         "20640.0"
        ],
        [
         "mean",
         "28.639486434108527",
         "2635.7630813953488",
         "537.8705525375618",
         "1425.4767441860465",
         "499.5396802325581",
         "3.8706710029069766",
         "206855.81690891474"
        ],
        [
         "std",
         "12.58555761211165",
         "2181.615251582795",
         "421.3850700740323",
         "1132.462121765341",
         "382.32975283161073",
         "1.8998217179452688",
         "115395.61587441387"
        ],
        [
         "min",
         "1.0",
         "2.0",
         "1.0",
         "3.0",
         "1.0",
         "0.4999",
         "14999.0"
        ],
        [
         "25%",
         "18.0",
         "1447.75",
         "296.0",
         "787.0",
         "280.0",
         "2.5633999999999997",
         "119600.0"
        ],
        [
         "50%",
         "29.0",
         "2127.0",
         "435.0",
         "1166.0",
         "409.0",
         "3.5347999999999997",
         "179700.0"
        ],
        [
         "75%",
         "37.0",
         "3148.0",
         "647.0",
         "1725.0",
         "605.0",
         "4.74325",
         "264725.0"
        ],
        [
         "max",
         "52.0",
         "39320.0",
         "6445.0",
         "35682.0",
         "6082.0",
         "15.0001",
         "500001.0"
        ]
       ],
       "shape": {
        "columns": 7,
        "rows": 8
       }
      },
      "text/html": [
       "<div>\n",
       "<style scoped>\n",
       "    .dataframe tbody tr th:only-of-type {\n",
       "        vertical-align: middle;\n",
       "    }\n",
       "\n",
       "    .dataframe tbody tr th {\n",
       "        vertical-align: top;\n",
       "    }\n",
       "\n",
       "    .dataframe thead th {\n",
       "        text-align: right;\n",
       "    }\n",
       "</style>\n",
       "<table border=\"1\" class=\"dataframe\">\n",
       "  <thead>\n",
       "    <tr style=\"text-align: right;\">\n",
       "      <th></th>\n",
       "      <th>housing_median_age</th>\n",
       "      <th>total_rooms</th>\n",
       "      <th>total_bedrooms</th>\n",
       "      <th>population</th>\n",
       "      <th>households</th>\n",
       "      <th>median_income</th>\n",
       "      <th>median_house_value</th>\n",
       "    </tr>\n",
       "  </thead>\n",
       "  <tbody>\n",
       "    <tr>\n",
       "      <th>count</th>\n",
       "      <td>20640.000000</td>\n",
       "      <td>20640.000000</td>\n",
       "      <td>20433.000000</td>\n",
       "      <td>20640.000000</td>\n",
       "      <td>20640.000000</td>\n",
       "      <td>20640.000000</td>\n",
       "      <td>20640.000000</td>\n",
       "    </tr>\n",
       "    <tr>\n",
       "      <th>mean</th>\n",
       "      <td>28.639486</td>\n",
       "      <td>2635.763081</td>\n",
       "      <td>537.870553</td>\n",
       "      <td>1425.476744</td>\n",
       "      <td>499.539680</td>\n",
       "      <td>3.870671</td>\n",
       "      <td>206855.816909</td>\n",
       "    </tr>\n",
       "    <tr>\n",
       "      <th>std</th>\n",
       "      <td>12.585558</td>\n",
       "      <td>2181.615252</td>\n",
       "      <td>421.385070</td>\n",
       "      <td>1132.462122</td>\n",
       "      <td>382.329753</td>\n",
       "      <td>1.899822</td>\n",
       "      <td>115395.615874</td>\n",
       "    </tr>\n",
       "    <tr>\n",
       "      <th>min</th>\n",
       "      <td>1.000000</td>\n",
       "      <td>2.000000</td>\n",
       "      <td>1.000000</td>\n",
       "      <td>3.000000</td>\n",
       "      <td>1.000000</td>\n",
       "      <td>0.499900</td>\n",
       "      <td>14999.000000</td>\n",
       "    </tr>\n",
       "    <tr>\n",
       "      <th>25%</th>\n",
       "      <td>18.000000</td>\n",
       "      <td>1447.750000</td>\n",
       "      <td>296.000000</td>\n",
       "      <td>787.000000</td>\n",
       "      <td>280.000000</td>\n",
       "      <td>2.563400</td>\n",
       "      <td>119600.000000</td>\n",
       "    </tr>\n",
       "    <tr>\n",
       "      <th>50%</th>\n",
       "      <td>29.000000</td>\n",
       "      <td>2127.000000</td>\n",
       "      <td>435.000000</td>\n",
       "      <td>1166.000000</td>\n",
       "      <td>409.000000</td>\n",
       "      <td>3.534800</td>\n",
       "      <td>179700.000000</td>\n",
       "    </tr>\n",
       "    <tr>\n",
       "      <th>75%</th>\n",
       "      <td>37.000000</td>\n",
       "      <td>3148.000000</td>\n",
       "      <td>647.000000</td>\n",
       "      <td>1725.000000</td>\n",
       "      <td>605.000000</td>\n",
       "      <td>4.743250</td>\n",
       "      <td>264725.000000</td>\n",
       "    </tr>\n",
       "    <tr>\n",
       "      <th>max</th>\n",
       "      <td>52.000000</td>\n",
       "      <td>39320.000000</td>\n",
       "      <td>6445.000000</td>\n",
       "      <td>35682.000000</td>\n",
       "      <td>6082.000000</td>\n",
       "      <td>15.000100</td>\n",
       "      <td>500001.000000</td>\n",
       "    </tr>\n",
       "  </tbody>\n",
       "</table>\n",
       "</div>"
      ],
      "text/plain": [
       "       housing_median_age   total_rooms  total_bedrooms    population  \\\n",
       "count        20640.000000  20640.000000    20433.000000  20640.000000   \n",
       "mean            28.639486   2635.763081      537.870553   1425.476744   \n",
       "std             12.585558   2181.615252      421.385070   1132.462122   \n",
       "min              1.000000      2.000000        1.000000      3.000000   \n",
       "25%             18.000000   1447.750000      296.000000    787.000000   \n",
       "50%             29.000000   2127.000000      435.000000   1166.000000   \n",
       "75%             37.000000   3148.000000      647.000000   1725.000000   \n",
       "max             52.000000  39320.000000     6445.000000  35682.000000   \n",
       "\n",
       "         households  median_income  median_house_value  \n",
       "count  20640.000000   20640.000000        20640.000000  \n",
       "mean     499.539680       3.870671       206855.816909  \n",
       "std      382.329753       1.899822       115395.615874  \n",
       "min        1.000000       0.499900        14999.000000  \n",
       "25%      280.000000       2.563400       119600.000000  \n",
       "50%      409.000000       3.534800       179700.000000  \n",
       "75%      605.000000       4.743250       264725.000000  \n",
       "max     6082.000000      15.000100       500001.000000  "
      ]
     },
     "execution_count": 71,
     "metadata": {},
     "output_type": "execute_result"
    }
   ],
   "source": [
    "df.describe()"
   ]
  },
  {
   "cell_type": "code",
   "execution_count": 72,
   "metadata": {},
   "outputs": [
    {
     "data": {
      "image/png": "[encoded data removed]",
      "text/plain": [
       "<Figure size 640x480 with 2 Axes>"
      ]
     },
     "metadata": {},
     "output_type": "display_data"
    }
   ],
   "source": [
    "\n",
    "\n",
    "\n",
    "corr_matrix = df.corr(numeric_only=True)\n",
    "\n",
    "sns.heatmap(corr_matrix, cmap=\"YlGnBu\", annot=True) \n",
    "plt.show()\n"
   ]
  },
  {
   "cell_type": "code",
   "execution_count": 73,
   "metadata": {},
   "outputs": [
    {
     "data": {
      "text/plain": [
       "<matplotlib.collections.PathCollection at 0x18dfd974550>"
      ]
     },
     "execution_count": 73,
     "metadata": {},
     "output_type": "execute_result"
    },
    {
     "data": {
      "image/png": "[encoded data removed]",
      "text/plain": [
       "<Figure size 1000x600 with 1 Axes>"
      ]
     },
     "metadata": {},
     "output_type": "display_data"
    }
   ],
   "source": [
    "fig, ax = plt.subplots(figsize=(10,6))\n",
    "\n",
    "ax.scatter(df['median_house_value'], df['median_income'])"
   ]
  },
  {
   "cell_type": "code",
   "execution_count": 74,
   "metadata": {},
   "outputs": [],
   "source": [
    "columns_dropped = list(range(19000))\n",
    "\n",
    "df_dropped = df.drop(index=columns_dropped)\n",
    "\n",
    "df=df_dropped.loc[:, ['median_house_value', 'median_income']]\n",
    "\n",
    "outliers = df.loc[df['median_income'] > 9]\n",
    "\n",
    "df = df.drop(index=outliers.index, axis=0)"
   ]
  },
  {
   "cell_type": "markdown",
   "metadata": {},
   "source": [
    "The loss function"
   ]
  },
  {
   "cell_type": "code",
   "execution_count": 75,
   "metadata": {},
   "outputs": [],
   "source": [
    "def loss_function(m, b, points):\n",
    "    total_error = 0\n",
    "    for i in range(len(points)):\n",
    "        x = points.iloc[i].median_income\n",
    "        y = points.iloc[i].median_house_value\n",
    "        total_error += (y - (m * x + b)) ** 2\n",
    "    total_error / float(len(points))"
   ]
  },
  {
   "cell_type": "code",
   "execution_count": 76,
   "metadata": {},
   "outputs": [],
   "source": [
    "def gradient_descent(m_now, b_now, points, learning_rate):\n",
    "    m_gradient = 0\n",
    "    b_gradient = 0\n",
    "    \n",
    "    n = len(points)\n",
    "    \n",
    "    for i in range(n):\n",
    "        x = points.iloc[i].median_income\n",
    "        y = points.iloc[i].median_house_value\n",
    "\n",
    "        m_gradient += -(2/n) * x * (y - (m_now * x + b_now))\n",
    "        b_gradient += -(2/n) * (y - (m_now * x + b_now))\n",
    "    \n",
    "    m = m_now - m_gradient * learning_rate\n",
    "    b = b_now - b_gradient * learning_rate\n",
    "    \n",
    "    return m, b"
   ]
  },
  {
   "cell_type": "code",
   "execution_count": 80,
   "metadata": {},
   "outputs": [
    {
     "name": "stdout",
     "output_type": "stream",
     "text": [
      "39249.74901985927 9931.78948795545\n"
     ]
    },
    {
     "data": {
      "image/png": "[encoded data removed]",
      "text/plain": [
       "<Figure size 640x480 with 1 Axes>"
      ]
     },
     "metadata": {},
     "output_type": "display_data"
    }
   ],
   "source": [
    "m = 0\n",
    "b=0\n",
    "learning_rate = 0.0001\n",
    "epochs = 800\n",
    "for i in range(epochs):\n",
    "    m,b = gradient_descent(m, b, df, learning_rate)\n",
    "\n",
    "print(m,b)\n",
    "\n",
    "plt.scatter(df.median_income, df.median_house_value,  color='turquoise')\n",
    "plt.plot(list(range(1, 15)), [m * x + b for x in range(1, 15)], color='salmon')\n",
    "plt.show()"
   ]
  },
  {
   "cell_type": "code",
   "execution_count": null,
   "metadata": {},
   "outputs": [],
   "source": []
  }
 ],
 "metadata": {
  "kernelspec": {
   "display_name": ".venv",
   "language": "python",
   "name": "python3"
  },
  "language_info": {
   "codemirror_mode": {
    "name": "ipython",
    "version": 3
   },
   "file_extension": ".py",
   "mimetype": "text/x-python",
   "name": "python",
   "nbconvert_exporter": "python",
   "pygments_lexer": "ipython3",
   "version": "3.13.1"
  }
 },
 "nbformat": 4,
 "nbformat_minor": 2
}
